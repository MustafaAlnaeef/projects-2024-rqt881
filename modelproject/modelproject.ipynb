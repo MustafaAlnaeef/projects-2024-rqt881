{
 "cells": [
  {
   "cell_type": "markdown",
   "metadata": {},
   "source": [
    "# Black-Scholes Model Analysis"
   ]
  },
  {
   "attachments": {},
   "cell_type": "markdown",
   "metadata": {},
   "source": [
    "> **Note the following:** \n",
    "> 1. This is *not* meant to be an example of an actual **model analysis project**, just an example of how to structure such a project.\n",
    "> 1. Remember the general advice on structuring and commenting your code\n",
    "> 1. The `modelproject.py` file includes a function which could be used multiple times in this notebook."
   ]
  },
  {
   "cell_type": "markdown",
   "metadata": {},
   "source": [
    "Imports and set magics:"
   ]
  },
  {
   "cell_type": "code",
   "execution_count": 12,
   "metadata": {},
   "outputs": [
    {
     "name": "stdout",
     "output_type": "stream",
     "text": [
      "The autoreload extension is already loaded. To reload it, use:\n",
      "  %reload_ext autoreload\n"
     ]
    }
   ],
   "source": [
    "import numpy as np\n",
    "from scipy.stats import norm\n",
    "from scipy import optimize\n",
    "import sympy as sp\n",
    "\n",
    "\n",
    "# autoreload modules when code is run\n",
    "%load_ext autoreload\n",
    "%autoreload 2\n",
    "\n",
    "# local modules\n",
    "import modelproject"
   ]
  },
  {
   "cell_type": "markdown",
   "metadata": {},
   "source": [
    "# Model description: The Black-Scholes Equation"
   ]
  },
  {
   "cell_type": "markdown",
   "metadata": {},
   "source": [
    "The Black-Scholes model is a cornerstone of modern financial theory, introduced by Fischer Black and Myron Scholes in 1973. It provides a mathematical model for pricing European-style options, which are financial derivatives allowing for the purchase or sale of an underlying asset at a predetermined price on a specific date. The model's significance lies in its ability to deduce a theoretical estimate of an option's price in the market, absent of any arbitrage opportunities (i.e., risk-free profit).\n",
    "\n",
    "### Purpose of the Model\n",
    "\n",
    "The primary purpose of the Black-Scholes model is to determine the price of options, specifically European call and put options, under the assumption of constant volatility and interest rates. By doing so, it helps traders, financial analysts, and investors to:\n",
    "\n",
    "- **Evaluate Options:** Determine fair prices for options, which are otherwise difficult due to the option's dependency on future asset prices.\n",
    "- **Risk Management:** Understand how different factors affect the option's value, aiding in the formulation of strategies to hedge against price movements of the underlying asset.\n",
    "- **Investment Decision Making:** Make informed decisions regarding the purchase or sale of options based on their theoretical values.\n",
    "\n",
    "### The Black-Scholes Formula\n",
    "\n",
    "The Black-Scholes model for a European call option's price, \\(C\\), and a European put option's price, \\(P\\), on a non-dividend-paying stock is given by:\n",
    "\n",
    "#### For a Call Option:\n",
    "$$C(S, t) = S_0N(d_1) - Ke^{-rT}N(d_2)$$\n",
    "\n",
    "#### For a Put Option:\n",
    "$$P(S, t) = Ke^{-rT}N(-d_2) - S_0N(-d_1) $$\n",
    "\n",
    "where:\n",
    "- $S_0$ is the current price of the stock.\n",
    "- $K$ is the strike price of the option.\n",
    "- $r$ is the risk-free interest rate (annual).\n",
    "- $T$ is the time to expiration of the option (in years).\n",
    "- $N (\\cdot)$ represents the cumulative distribution function of the standard normal distribution.\n",
    "- $d_1$ and $d_2$ are calculated as follows:\n",
    "\n",
    "$$d_1 = \\frac{\\ln(\\frac{S_0}{K}) + (r + \\frac{\\sigma^2}{2})T}{\\sigma\\sqrt{T}} $$\n",
    "\n",
    "$$d_2 = d_1 - \\sigma\\sqrt{T} $$\n",
    "\n",
    "- $\\sigma$ is the volatility of the stock's returns (standard deviation of the stock's returns).\n",
    "\n",
    "### Understanding the Equations\n",
    "\n",
    "- **$S_0N(d_1)$** and **$-S_0N(-d_1)$**: These terms represent the present value of purchasing the stock outright, adjusted for the probability that the option finishes in the money (i.e., it has intrinsic value at expiration).\n",
    "- **$Ke^{-rT}N(d_2)$** and **$Ke^{-rT}N(-d_2)$**: These terms account for the present value of paying the strike price at expiration, adjusted for the probability the option will be exercised.\n",
    "\n",
    "The function $N(d_1)$ and $N(d_2)$ are probabilities derived from the cumulative distribution of a standard normal distribution, which account for the risk-adjusted probabilities that the option will be in the money at expiration.\n",
    "\n",
    "\n",
    "The Black-Scholes model revolutionized financial markets by providing a systematic method to price European options. Its derivation assumes market efficiency, no arbitrage opportunities, and constant volatility and interest rates. While real-world conditions may deviate from these assumptions, the Black-Scholes model remains a fundamental tool in finance for theoretical valuation and risk management strategies.\n"
   ]
  },
  {
   "cell_type": "markdown",
   "metadata": {},
   "source": [
    "## Analytical Solution \n",
    "\n",
    "The Black-Scholes model provides a closed-form solution for pricing European options, a pivotal concept in financial mathematics. This solution is derived under the framework of certain assumptions, including constant volatility and no dividends. Below, we explore the derivation and application of this formula for a European call option, which can be extended similarly for a put option.\n",
    "\n",
    "### Purpose and Significance\n",
    "\n",
    "The Black-Scholes formula allows investors and financial analysts to determine the theoretical price of European call and put options. Understanding this formula and its dependencies helps in making informed decisions in financial markets.\n",
    "\n",
    "### Derivation of the Black-Scholes Formula\n",
    "\n",
    "The formula for a European call option is as follows, where the option's price is a function of the stock price, strike price, risk-free rate, volatility, and time to expiration.\n",
    "\n",
    "#### For a Call Option:\n",
    "\n",
    "The price $C$ is given by:\n",
    "$$ C(S, t) = S_0N(d_1) - Ke^{-rT}N(d_2) $$\n",
    "\n",
    "### Characterizing the Option's Price as a Function of Volatility\n",
    "\n",
    "Volatility $(\\sigma)$ plays a crucial role in option pricing, influencing the option's sensitivity to changes in the underlying asset's price. Below, we characterize the call option's price as a function of volatility, demonstrating the impact of volatility on pricing.\n"
   ]
  },
  {
   "cell_type": "code",
   "execution_count": 14,
   "metadata": {},
   "outputs": [
    {
     "name": "stdout",
     "output_type": "stream",
     "text": [
      "The price of the European call option is: 10.450583572185565\n"
     ]
    }
   ],
   "source": [
    "from modelproject import BlackScholesModel\n",
    "\n",
    "# Initialize the model with specific parameters\n",
    "model = BlackScholesModel(S=100, K=100, T=1, r=0.05, sigma=0.2)\n",
    "\n",
    "# Calculate the call option price\n",
    "call_price = model.call_price()\n",
    "print(f\"The price of the European call option is: {call_price}\")\n"
   ]
  },
  {
   "cell_type": "markdown",
   "metadata": {},
   "source": [
    "## Numerical solution"
   ]
  },
  {
   "cell_type": "markdown",
   "metadata": {},
   "source": [
    "You can always solve a model numerically. \n",
    "\n",
    "Define first the set of parameters you need. \n",
    "\n",
    "Then choose one of the optimization algorithms that we have gone through in the lectures based on what you think is most fitting for your model.\n",
    "\n",
    "Are there any problems with convergence? Does the model converge for all starting values? Make a lot of testing to figure these things out. "
   ]
  },
  {
   "cell_type": "markdown",
   "metadata": {},
   "source": [
    "# Further analysis"
   ]
  },
  {
   "cell_type": "markdown",
   "metadata": {},
   "source": [
    "Make detailed vizualizations of how your model changes with parameter values. \n",
    "\n",
    "Try to make an extension of the model. "
   ]
  },
  {
   "cell_type": "markdown",
   "metadata": {},
   "source": [
    "# Conclusion"
   ]
  },
  {
   "cell_type": "markdown",
   "metadata": {},
   "source": [
    "Add concise conclusion. "
   ]
  }
 ],
 "metadata": {
  "kernelspec": {
   "display_name": "base",
   "language": "python",
   "name": "python3"
  },
  "language_info": {
   "codemirror_mode": {
    "name": "ipython",
    "version": 3
   },
   "file_extension": ".py",
   "mimetype": "text/x-python",
   "name": "python",
   "nbconvert_exporter": "python",
   "pygments_lexer": "ipython3",
   "version": "3.9.16"
  },
  "toc-autonumbering": true,
  "vscode": {
   "interpreter": {
    "hash": "47ef90cdf3004d3f859f1fb202523c65c07ba7c22eefd261b181f4744e2d0403"
   }
  }
 },
 "nbformat": 4,
 "nbformat_minor": 4
}
