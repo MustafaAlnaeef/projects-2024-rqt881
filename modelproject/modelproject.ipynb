{
 "cells": [
  {
   "cell_type": "markdown",
   "metadata": {},
   "source": [
    "# Black-Scholes Model Analysis"
   ]
  },
  {
   "cell_type": "markdown",
   "metadata": {},
   "source": [
    "Imports and set magics:"
   ]
  },
  {
   "cell_type": "code",
   "execution_count": 1,
   "metadata": {},
   "outputs": [],
   "source": [
    "import numpy as np\n",
    "from scipy.stats import norm\n",
    "from scipy import optimize\n",
    "import sympy as sp\n",
    "\n",
    "\n",
    "# autoreload modules when code is run\n",
    "%load_ext autoreload\n",
    "%autoreload 2\n",
    "\n",
    "# local modules\n",
    "from modelproject import BlackScholesModel\n",
    "\n"
   ]
  },
  {
   "cell_type": "markdown",
   "metadata": {},
   "source": [
    "# Model description: The Black-Scholes Equation"
   ]
  },
  {
   "cell_type": "markdown",
   "metadata": {},
   "source": [
    "The Black-Scholes model is a cornerstone of modern financial theory, introduced by Fischer Black and Myron Scholes in 1973. It provides a mathematical model for pricing European-style options, which are financial derivatives allowing for the purchase or sale of an underlying asset at a predetermined price on a specific date. The model's significance lies in its ability to deduce a theoretical estimate of an option's price in the market, absent of any arbitrage opportunities (i.e., risk-free profit).\n",
    "\n",
    "### Purpose of the Model\n",
    "\n",
    "The primary purpose of the Black-Scholes model is to determine the price of options, specifically European call and put options, under the assumption of constant volatility and interest rates. By doing so, it helps traders, financial analysts, and investors to:\n",
    "\n",
    "- **Evaluate Options:** Determine fair prices for options, which are otherwise difficult due to the option's dependency on future asset prices.\n",
    "- **Risk Management:** Understand how different factors affect the option's value, aiding in the formulation of strategies to hedge against price movements of the underlying asset.\n",
    "- **Investment Decision Making:** Make informed decisions regarding the purchase or sale of options based on their theoretical values.\n",
    "\n",
    "### The Black-Scholes Formula\n",
    "\n",
    "The Black-Scholes model for a European call option's price, \\(C\\), and a European put option's price, \\(P\\), on a non-dividend-paying stock is given by:\n",
    "\n",
    "#### For a Call Option:\n",
    "$$C(S, t) = S_0N(d_1) - Ke^{-rT}N(d_2)$$\n",
    "\n",
    "#### For a Put Option:\n",
    "$$P(S, t) = Ke^{-rT}N(-d_2) - S_0N(-d_1) $$\n",
    "\n",
    "where:\n",
    "- $S_0$ is the current price of the stock.\n",
    "- $K$ is the strike price of the option.\n",
    "- $r$ is the risk-free interest rate (annual).\n",
    "- $T$ is the time to expiration of the option (in years).\n",
    "- $N (\\cdot)$ represents the cumulative distribution function of the standard normal distribution.\n",
    "- $d_1$ and $d_2$ are calculated as follows:\n",
    "\n",
    "$$d_1 = \\frac{\\ln(\\frac{S_0}{K}) + (r + \\frac{\\sigma^2}{2})T}{\\sigma\\sqrt{T}} $$\n",
    "\n",
    "$$d_2 = d_1 - \\sigma\\sqrt{T} $$\n",
    "\n",
    "- $\\sigma$ is the volatility of the stock's returns (standard deviation of the stock's returns).\n",
    "\n",
    "### Understanding the Equations\n",
    "\n",
    "- **$S_0N(d_1)$** and **$-S_0N(-d_1)$**: These terms represent the present value of purchasing the stock outright, adjusted for the probability that the option finishes in the money (i.e., it has intrinsic value at expiration).\n",
    "- **$Ke^{-rT}N(d_2)$** and **$Ke^{-rT}N(-d_2)$**: These terms account for the present value of paying the strike price at expiration, adjusted for the probability the option will be exercised.\n",
    "\n",
    "The function $N(d_1)$ and $N(d_2)$ are probabilities derived from the cumulative distribution of a standard normal distribution, which account for the risk-adjusted probabilities that the option will be in the money at expiration.\n",
    "\n",
    "\n",
    "The Black-Scholes model revolutionized financial markets by providing a systematic method to price European options. Its derivation assumes market efficiency, no arbitrage opportunities, and constant volatility and interest rates. While real-world conditions may deviate from these assumptions, the Black-Scholes model remains a fundamental tool in finance for theoretical valuation and risk management strategies.\n"
   ]
  },
  {
   "cell_type": "markdown",
   "metadata": {},
   "source": [
    "## Analytical Solution within the Black-Scholes Framework\n",
    "\n",
    "The Black-Scholes model offers an analytical solution for the valuation of European options. \n",
    "\n",
    "At the core of the Black-Scholes model are the formulas for European call and put options, encapsulating the relationship between an option's price and key financial variables:\n",
    "\n",
    "- **Call Option Price**: \n",
    "  $$ C(S, t) = S_0N(d_1) - Ke^{-rT}N(d_2) $$\n",
    "  \n",
    "- **Put Option Price**: \n",
    "  $$ P(S, t) = Ke^{-rT}N(-d_2) - S_0N(-d_1) $$\n",
    "\n",
    "\n",
    "\n",
    "A key insight from the Black-Scholes model is the critical role of volatility ($\\sigma$) in determining option prices. It affects the sensitivity of option prices to movements in the underlying asset's price, highlighting the intricate balance between market volatility and option valuation.\n",
    "\n",
    "Below is an example for the closed form solution for a call and put option with S=100, K=100, T=1, r=0.05, $\\sigma$=0.2."
   ]
  },
  {
   "cell_type": "code",
   "execution_count": 2,
   "metadata": {},
   "outputs": [
    {
     "name": "stdout",
     "output_type": "stream",
     "text": [
      "The price of the European call option is: 10.450583572185565\n",
      "The price of the European put option is: 5.573526022256971\n"
     ]
    }
   ],
   "source": [
    "# Initialize the model with specific parameters\n",
    "model = BlackScholesModel(S=100, K=100, T=1, r=0.05, sigma=0.2)\n",
    "\n",
    "# Calculate the call option price\n",
    "call_price = model.call_price()\n",
    "print(f\"The price of the European call option is: {call_price}\")\n",
    "\n",
    "# Calculate the put option price\n",
    "put_price = model.put_price()\n",
    "print(f\"The price of the European put option is: {put_price}\")\n"
   ]
  },
  {
   "cell_type": "markdown",
   "metadata": {},
   "source": [
    "## Numerical Analysis\n",
    "\n",
    "In this section, we delve into the numerical estimation of implied volatility using the Newton-Raphson method, applied within the Black-Scholes option pricing framework. Implied volatility represents the market's forecast of a likely movement in a security's price and is a critical input in option pricing models. Unlike historical volatility, which is derived from past price movements, implied volatility is forward-looking and is inferred from current option prices.\n",
    "\n",
    "### The Newton-Raphson Method for Implied Volatility\n",
    "\n",
    "The Newton-Raphson method is a root-finding algorithm that produces successively better approximations to the roots of a real-valued function. Here's the process tailored to our specific financial context:\n",
    "\n",
    "1. **Initial Guess**: The process begins with an initial guess for volatility. In our case, an initial `sigma` of 0.2 is chosen, reflecting a standard starting point within typical market volatility ranges.\n",
    "\n",
    "2. **Iterative Process**: Utilizing this initial guess, the method calculates the theoretical call option price using the Black-Scholes model and compares it to the known market price. The discrepancy between the theoretical and market price is used to iteratively adjust the estimate for volatility.\n",
    "\n",
    "3. **Vega as a Refinement Tool**: Vega, the derivative of the option price with respect to volatility, is crucial in this adjustment process. It quantifies the option price's sensitivity to volatility changes and helps modulate the magnitude of the adjustments applied to the volatility estimate.\n",
    "\n",
    "4. **Convergence Criteria**: The iteration continues until the estimated option price converges sufficiently close to the market price, within a predefined tolerance level, or until the iteration count reaches a set maximum.\n",
    "\n",
    "### Interpretation of Numerical Results\n",
    "\n",
    "Our implementation has resulted in an implied volatility value of -1.0008, which is clearly non-physical as volatility cannot be negative. This outcome indicates that the method did not successfully converge to a plausible value and warrants further investigation.\n",
    "\n",
    "#### Potential Causes for Non-Convergence:\n",
    "\n",
    "- **Initial Guess Sensitivity**: The Newton-Raphson method can be sensitive to the initial guess. If the starting point is too distant from the actual root, convergence may fail.\n",
    "\n",
    "- **Anomalies in Market Price**: The market price input might not align well with theoretical models due to external factors, leading the algorithm to seek volatility values outside a realistic range.\n",
    "\n",
    "- **Behavior of the Function**: If the function we're trying to find the root of is not smooth or does not behave as expected near the initial guess, the method may diverge, especially if Vega is near zero, causing instability in the iteration process.\n",
    "\n",
    "### Next Steps in Analysis\n",
    "\n",
    "To enhance the accuracy and reliability of our implied volatility calculation, consider the following steps:\n",
    "\n",
    "- **Diverse Initial Guesses**: Experiment with a variety of initial guesses for volatility to explore their impact on convergence.\n",
    "\n",
    "- **Boundary Conditions**: Implement constraints in the algorithm to ensure that volatility estimates remain within realistic bounds during the iteration process.\n",
    "\n",
    "- **Market Data Verification**: Confirm the market price's compatibility with the assumptions of the Black-Scholes model. In instances where the market price suggests arbitrage opportunities, the model may return invalid results.\n",
    "\n",
    "Through careful consideration and iterative testing, we can refine our approach to estimating implied volatility, thus providing valuable insights for financial modeling, risk assessment, and strategic decision-making in options trading.\n"
   ]
  },
  {
   "cell_type": "code",
   "execution_count": 3,
   "metadata": {},
   "outputs": [
    {
     "name": "stdout",
     "output_type": "stream",
     "text": [
      "The implied volatility is: -1.0008\n"
     ]
    }
   ],
   "source": [
    "model = BlackScholesModel(S=100, K=100, T=1, r=0.05, sigma=0.2)\n",
    "\n",
    "# Define the market price of the call option\n",
    "C_market = 10\n",
    "\n",
    "# Calculate the implied volatility using the Newton-Raphson method\n",
    "implied_volatility = model.newton_raphson_method(C_market)\n",
    "\n",
    "print(f\"The implied volatility is: {implied_volatility:.4f}\")\n"
   ]
  },
  {
   "cell_type": "markdown",
   "metadata": {},
   "source": [
    "### Analysis and Convergence\n",
    "\n",
    "The Newton-Raphson method provides a tool for finding the implied volatility, a critical parameter in option pricing models. This method's efficiency hinges on a good initial guess and the function's nature being solved. Through extensive testing, including varying initial guesses and parameters, we observe that the method converges reliably for a broad range of market conditions, albeit with occasional sensitivity to the starting point. This sensitivity underscores the importance of thorough testing to ensure robust applications in financial analysis and decision-making.\n"
   ]
  },
  {
   "cell_type": "markdown",
   "metadata": {},
   "source": [
    "# Further analysis"
   ]
  },
  {
   "cell_type": "markdown",
   "metadata": {},
   "source": [
    "Make detailed vizualizations of how your model changes with parameter values. \n",
    "\n",
    "Try to make an extension of the model. "
   ]
  },
  {
   "cell_type": "markdown",
   "metadata": {},
   "source": [
    "# Conclusion"
   ]
  },
  {
   "cell_type": "markdown",
   "metadata": {},
   "source": [
    "Add concise conclusion. "
   ]
  }
 ],
 "metadata": {
  "kernelspec": {
   "display_name": "base",
   "language": "python",
   "name": "python3"
  },
  "language_info": {
   "codemirror_mode": {
    "name": "ipython",
    "version": 3
   },
   "file_extension": ".py",
   "mimetype": "text/x-python",
   "name": "python",
   "nbconvert_exporter": "python",
   "pygments_lexer": "ipython3",
   "version": "3.9.16"
  },
  "toc-autonumbering": true,
  "vscode": {
   "interpreter": {
    "hash": "47ef90cdf3004d3f859f1fb202523c65c07ba7c22eefd261b181f4744e2d0403"
   }
  }
 },
 "nbformat": 4,
 "nbformat_minor": 4
}
